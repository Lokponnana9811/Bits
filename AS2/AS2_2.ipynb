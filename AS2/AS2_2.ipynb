{
 "cells": [
  {
   "cell_type": "code",
   "execution_count": 2,
   "id": "d8027149",
   "metadata": {},
   "outputs": [
    {
     "name": "stdout",
     "output_type": "stream",
     "text": [
      "Iterates:\n",
      "Iter  |   x     |    y     |   alpha  |   f(x, y)\n",
      "-------------------------------------------------\n",
      "\n",
      "Gradient descent did not converge within the maximum number of iterations.\n",
      "\n",
      "Parameters for Armijo's Rule:\n",
      "alpha = 1.0, beta = 0.5, gamma = 0.1\n"
     ]
    }
   ],
   "source": [
    "import numpy as np\n",
    "\n",
    "# Define the function f(x, y)\n",
    "def f(x, y):\n",
    "    return 10*x**4 - 20*x**2*y + x**2 + 10*y**2 - 2*x + 1\n",
    "\n",
    "# Define the gradient of f(x, y)\n",
    "def gradient_f(x, y):\n",
    "    df_dx = 40*x**3 - 40*x*y + 2*x - 2\n",
    "    df_dy = -20*x**2 + 20*y\n",
    "    return np.array([df_dx, df_dy])\n",
    "\n",
    "# Armijo's Rule for step size selection\n",
    "def armijo_rule(x, y, alpha, beta, gamma, grad):\n",
    "    while f(x - alpha*grad[0], y - alpha*grad[1]) > f(x, y) - gamma*alpha*np.linalg.norm(grad)**2:\n",
    "        alpha *= beta\n",
    "    return alpha\n",
    "\n",
    "# Gradient Descent function\n",
    "def gradient_descent(x0, y0, alpha, beta, gamma, tol=1e-6, max_iter=1000):\n",
    "    x = x0\n",
    "    y = y0\n",
    "    iterates = []\n",
    "    for i in range(max_iter):\n",
    "        grad = gradient_f(x, y)\n",
    "        alpha = armijo_rule(x, y, alpha, beta, gamma, grad)\n",
    "        x_new = x - alpha*grad[0]\n",
    "        y_new = y - alpha*grad[1]\n",
    "        if np.linalg.norm([x_new - x, y_new - y]) < tol:\n",
    "            break\n",
    "        x = x_new\n",
    "        y = y_new\n",
    "        iterates.append((x, y, alpha, f(x, y)))\n",
    "    return iterates\n",
    "\n",
    "# Initial point and parameters for Armijo's Rule\n",
    "x0 = 1.0\n",
    "y0 = 1.0\n",
    "alpha = 1.0\n",
    "beta = 0.5\n",
    "gamma = 0.1\n",
    "\n",
    "# Run gradient descent\n",
    "iterates = gradient_descent(x0, y0, alpha, beta, gamma)\n",
    "\n",
    "print(\"Iterates:\")\n",
    "print(\"Iter  |   x     |    y     |   alpha  |   f(x, y)\")\n",
    "print(\"-------------------------------------------------\")\n",
    "for i in range(min(10, len(iterates))):\n",
    "    print(f\"{i+1:<6}| {iterates[i][0]:.6f} | {iterates[i][1]:.6f} | {iterates[i][2]:.6f} | {iterates[i][3]:.6f}\")\n",
    "\n",
    "# Output the optimal point if iterates exist\n",
    "if iterates:\n",
    "    optimal_point = iterates[-1]\n",
    "    print(\"\\nOptimal Point:\")\n",
    "    print(f\"x* = {optimal_point[0]}, y* = {optimal_point[1]}, f(x*, y*) = {optimal_point[3]}\")\n",
    "else:\n",
    "    print(\"\\nGradient descent did not converge within the maximum number of iterations.\")\n",
    "\n",
    "# Output the parameters chosen for Armijo's Rule\n",
    "print(\"\\nParameters for Armijo's Rule:\")\n",
    "print(f\"alpha = {alpha}, beta = {beta}, gamma = {gamma}\")"
   ]
  },
  {
   "cell_type": "code",
   "execution_count": null,
   "id": "dae68d83",
   "metadata": {},
   "outputs": [],
   "source": []
  }
 ],
 "metadata": {
  "kernelspec": {
   "display_name": "Python 3 (ipykernel)",
   "language": "python",
   "name": "python3"
  },
  "language_info": {
   "codemirror_mode": {
    "name": "ipython",
    "version": 3
   },
   "file_extension": ".py",
   "mimetype": "text/x-python",
   "name": "python",
   "nbconvert_exporter": "python",
   "pygments_lexer": "ipython3",
   "version": "3.11.5"
  }
 },
 "nbformat": 4,
 "nbformat_minor": 5
}
