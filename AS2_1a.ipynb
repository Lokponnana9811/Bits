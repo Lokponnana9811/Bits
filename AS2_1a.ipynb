{
 "cells": [
  {
   "cell_type": "code",
   "execution_count": 3,
   "id": "5db41210",
   "metadata": {},
   "outputs": [
    {
     "name": "stdout",
     "output_type": "stream",
     "text": [
      "Matrix C:\n",
      "[[2 1 2]\n",
      " [9 9 5]\n",
      " [1 3 4]\n",
      " [9 5 7]]\n",
      "\n",
      "Matrix A1:\n",
      "[[167 131 116]\n",
      " [131 116  94]\n",
      " [116  94  94]]\n",
      "\n",
      "Characteristic Equation Coefficients:\n",
      "[ 1.0000e+00 -3.7700e+02  6.5210e+03 -2.8174e+04]\n",
      "\n",
      "Eigenvalues:\n",
      "[359.05707735   7.55002364  10.39289901]\n",
      "\n",
      "Eigenvectors:\n",
      "[[ 0.67347245  0.73476582 -0.08095715]\n",
      " [ 0.55278434 -0.57330603 -0.60477241]\n",
      " [ 0.49077932 -0.36254571  0.79227285]]\n"
     ]
    }
   ],
   "source": [
    "import numpy as np\n",
    "\n",
    "# Generate random integer matrix C of size 4x3\n",
    "C = np.random.randint(1, 10, size=(4, 3))\n",
    "\n",
    "# Compute A1 = C^T * C\n",
    "A1 = np.dot(C.T, C)\n",
    "\n",
    "# Print matrix C\n",
    "print(\"Matrix C:\")\n",
    "print(C)\n",
    "\n",
    "# Print matrix A1\n",
    "print(\"\\nMatrix A1:\")\n",
    "print(A1)\n",
    "\n",
    "# Compute characteristic equation using numpy.linalg.eigvals\n",
    "char_eq_coeff = np.poly(A1)\n",
    "print(\"\\nCharacteristic Equation Coefficients:\")\n",
    "print(char_eq_coeff)\n",
    "\n",
    "# Compute eigenvalues and eigenvectors\n",
    "eigenvalues, eigenvectors = np.linalg.eig(A1)\n",
    "\n",
    "print(\"\\nEigenvalues:\")\n",
    "print(eigenvalues)\n",
    "\n",
    "print(\"\\nEigenvectors:\")\n",
    "print(eigenvectors)\n"
   ]
  }
 ],
 "metadata": {
  "kernelspec": {
   "display_name": "Python 3 (ipykernel)",
   "language": "python",
   "name": "python3"
  },
  "language_info": {
   "codemirror_mode": {
    "name": "ipython",
    "version": 3
   },
   "file_extension": ".py",
   "mimetype": "text/x-python",
   "name": "python",
   "nbconvert_exporter": "python",
   "pygments_lexer": "ipython3",
   "version": "3.11.5"
  }
 },
 "nbformat": 4,
 "nbformat_minor": 5
}
