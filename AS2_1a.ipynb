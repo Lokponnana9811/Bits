{
 "cells": [
  {
   "cell_type": "code",
   "execution_count": 6,
   "id": "777877fe",
   "metadata": {},
   "outputs": [
    {
     "name": "stdout",
     "output_type": "stream",
     "text": [
      "Characteristic Equation Coefficients: [ 1.00000e+00 -5.50000e+02  3.60490e+04 -2.07711e+05]\n",
      "\n",
      "Eigenvalues:\n",
      "[475.03313679   6.37472169  68.59214153]\n",
      "\n",
      "Eigenvectors:\n",
      "[[ 0.71153042  0.68698343 -0.14757445]\n",
      " [ 0.4435361  -0.60201479 -0.66396831]\n",
      " [ 0.54497723 -0.40697906  0.73305379]]\n"
     ]
    }
   ],
   "source": [
    "import numpy as np\n",
    "\n",
    "# Generate random integer matrix C of size 4x3\n",
    "C = np.random.randint(1, 10, size=(4, 3))\n",
    "\n",
    "# Compute A1 = C^T * C\n",
    "A1 = np.dot(C.T, C)\n",
    "\n",
    "# Compute characteristic equation using numpy.linalg.eigvals\n",
    "char_eq_coeff = np.poly(A1)\n",
    "\n",
    "print(\"Characteristic Equation Coefficients:\", char_eq_coeff)\n",
    "\n",
    "# Compute eigenvalues and eigenvectors\n",
    "eigenvalues, eigenvectors = np.linalg.eig(A1)\n",
    "\n",
    "print(\"\\nEigenvalues:\")\n",
    "print(eigenvalues)\n",
    "\n",
    "print(\"\\nEigenvectors:\")\n",
    "print(eigenvectors)\n"
   ]
  },
  {
   "cell_type": "code",
   "execution_count": 9,
   "id": "5db41210",
   "metadata": {},
   "outputs": [
    {
     "name": "stdout",
     "output_type": "stream",
     "text": [
      "Matrix C:\n",
      "[[1 8 3]\n",
      " [3 1 5]\n",
      " [6 4 3]\n",
      " [2 6 9]]\n",
      "\n",
      "Matrix A1:\n",
      "[[ 50  47  54]\n",
      " [ 47 117  95]\n",
      " [ 54  95 124]]\n",
      "\n",
      "Characteristic Equation Coefficients:\n",
      "[ 1.00000e+00 -2.91000e+02  1.24080e+04 -1.41282e+05]\n",
      "\n",
      "Eigenvalues:\n",
      "[242.17286685  20.85982933  27.96730382]\n",
      "\n",
      "Eigenvectors:\n",
      "[[-0.34878474 -0.75258688  0.55853576]\n",
      " [-0.64616544 -0.23856359 -0.72495354]\n",
      " [-0.67883682  0.61375924  0.40308829]]\n"
     ]
    }
   ],
   "source": [
    "import numpy as np\n",
    "\n",
    "# Generate random integer matrix C of size 4x3\n",
    "C = np.random.randint(1, 10, size=(4, 3))\n",
    "\n",
    "# Compute A1 = C^T * C\n",
    "A1 = np.dot(C.T, C)\n",
    "\n",
    "# Print matrix C\n",
    "print(\"Matrix C:\")\n",
    "print(C)\n",
    "\n",
    "# Print matrix A1\n",
    "print(\"\\nMatrix A1:\")\n",
    "print(A1)\n",
    "\n",
    "# Compute characteristic equation using numpy.linalg.eigvals\n",
    "char_eq_coeff = np.poly(A1)\n",
    "print(\"\\nCharacteristic Equation Coefficients:\")\n",
    "print(char_eq_coeff)\n",
    "\n",
    "# Compute eigenvalues and eigenvectors\n",
    "eigenvalues, eigenvectors = np.linalg.eig(A1)\n",
    "\n",
    "print(\"\\nEigenvalues:\")\n",
    "print(eigenvalues)\n",
    "\n",
    "print(\"\\nEigenvectors:\")\n",
    "print(eigenvectors)\n"
   ]
  },
  {
   "cell_type": "code",
   "execution_count": null,
   "id": "3fd286af",
   "metadata": {},
   "outputs": [],
   "source": []
  }
 ],
 "metadata": {
  "kernelspec": {
   "display_name": "Python 3 (ipykernel)",
   "language": "python",
   "name": "python3"
  },
  "language_info": {
   "codemirror_mode": {
    "name": "ipython",
    "version": 3
   },
   "file_extension": ".py",
   "mimetype": "text/x-python",
   "name": "python",
   "nbconvert_exporter": "python",
   "pygments_lexer": "ipython3",
   "version": "3.11.5"
  }
 },
 "nbformat": 4,
 "nbformat_minor": 5
}
