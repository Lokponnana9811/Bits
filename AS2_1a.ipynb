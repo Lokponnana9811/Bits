{
 "cells": [
  {
   "cell_type": "code",
   "execution_count": 1,
   "id": "5db41210",
   "metadata": {},
   "outputs": [
    {
     "name": "stdout",
     "output_type": "stream",
     "text": [
      "Matrix C:\n",
      "[[7 7 6]\n",
      " [8 3 5]\n",
      " [7 9 7]\n",
      " [1 1 6]]\n",
      "\n",
      "Matrix A1:\n",
      "[[163 137 137]\n",
      " [137 140 126]\n",
      " [137 126 146]]\n",
      "\n",
      "Characteristic Equation Coefficients:\n",
      "[ 1.00000e+00 -4.49000e+02  1.36440e+04 -1.05786e+05]\n",
      "\n",
      "Eigenvalues:\n",
      "[416.87984969  14.01815308  18.10199723]\n",
      "\n",
      "Eigenvectors:\n",
      "[[-0.60665629 -0.67577013 -0.41869186]\n",
      " [-0.5578917   0.73710903 -0.38134908]\n",
      " [-0.56632587 -0.0022369   0.82417838]]\n"
     ]
    }
   ],
   "source": [
    "import numpy as np\n",
    "\n",
    "# Generate random integer matrix C of size 4x3\n",
    "C = np.random.randint(1, 10, size=(4, 3))\n",
    "\n",
    "# Compute A1 = C^T * C\n",
    "A1 = np.dot(C.T, C)\n",
    "\n",
    "# Print matrix C\n",
    "print(\"Matrix C:\")\n",
    "print(C)\n",
    "\n",
    "# Print matrix A1\n",
    "print(\"\\nMatrix A1:\")\n",
    "print(A1)\n",
    "\n",
    "# Compute characteristic equation using numpy.linalg.eigvals\n",
    "char_eq_coeff = np.poly(A1)\n",
    "print(\"\\nCharacteristic Equation Coefficients:\")\n",
    "print(char_eq_coeff)\n",
    "\n",
    "# Compute eigenvalues and eigenvectors\n",
    "eigenvalues, eigenvectors = np.linalg.eig(A1)\n",
    "\n",
    "print(\"\\nEigenvalues:\")\n",
    "print(eigenvalues)\n",
    "\n",
    "print(\"\\nEigenvectors:\")\n",
    "print(eigenvectors)\n"
   ]
  }
 ],
 "metadata": {
  "kernelspec": {
   "display_name": "Python 3 (ipykernel)",
   "language": "python",
   "name": "python3"
  },
  "language_info": {
   "codemirror_mode": {
    "name": "ipython",
    "version": 3
   },
   "file_extension": ".py",
   "mimetype": "text/x-python",
   "name": "python",
   "nbconvert_exporter": "python",
   "pygments_lexer": "ipython3",
   "version": "3.11.5"
  }
 },
 "nbformat": 4,
 "nbformat_minor": 5
}
